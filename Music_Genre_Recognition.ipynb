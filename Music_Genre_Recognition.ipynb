{
  "nbformat": 4,
  "nbformat_minor": 0,
  "metadata": {
    "colab": {
      "provenance": [],
      "collapsed_sections": [
        "pfdlmuST6_0p",
        "NMuJyAgy77u9",
        "12erOw9y8EEX"
      ],
      "toc_visible": true,
      "machine_shape": "hm",
      "gpuType": "T4"
    },
    "kernelspec": {
      "name": "python3",
      "display_name": "Python 3"
    },
    "language_info": {
      "name": "python"
    },
    "accelerator": "GPU"
  },
  "cells": [
    {
      "cell_type": "markdown",
      "source": [
        "# Connect Drive"
      ],
      "metadata": {
        "id": "pfdlmuST6_0p"
      }
    },
    {
      "cell_type": "code",
      "execution_count": null,
      "metadata": {
        "id": "I0fiyDO-x_Ov",
        "colab": {
          "base_uri": "https://localhost:8080/"
        },
        "outputId": "79eaaf82-e4c9-419f-efa9-1c363fb9d22c"
      },
      "outputs": [
        {
          "output_type": "stream",
          "name": "stdout",
          "text": [
            "Mounted at /content/drive\n"
          ]
        }
      ],
      "source": [
        "from google.colab import drive\n",
        "drive.mount('/content/drive')"
      ]
    },
    {
      "cell_type": "markdown",
      "source": [
        "# Libraries"
      ],
      "metadata": {
        "id": "NMuJyAgy77u9"
      }
    },
    {
      "cell_type": "code",
      "source": [
        "# Torch\n",
        "import torch\n",
        "import torch.nn as nn\n",
        "import torch.optim as optim\n",
        "import torch.nn.functional as F\n",
        "from torch.utils.data import DataLoader,Dataset\n",
        "\n",
        "# TensorFlow and tf.keras\n",
        "import tensorflow as tf\n",
        "from tensorflow.keras.layers import Dense\n",
        "from tensorflow.keras.optimizers import SGD\n",
        "from tensorflow.keras.models import Sequential\n",
        "\n",
        "# Sklearn\n",
        "from sklearn.metrics import classification_report\n",
        "from sklearn import preprocessing\n",
        "from sklearn import preprocessing\n",
        "from sklearn.metrics import f1_score, accuracy_score, confusion_matrix, ConfusionMatrixDisplay\n",
        "\n",
        "import os\n",
        "import time\n",
        "import random\n",
        "import numpy as np\n",
        "\n",
        "import seaborn as sns\n",
        "import librosa.display\n",
        "\n",
        "from tabulate import tabulate\n",
        "import matplotlib.pyplot as plt\n"
      ],
      "metadata": {
        "id": "RFZBRQ4TLNfL"
      },
      "execution_count": null,
      "outputs": []
    },
    {
      "cell_type": "markdown",
      "source": [
        "# Q1. Feedforward Neural Network\n"
      ],
      "metadata": {
        "id": "12erOw9y8EEX"
      }
    },
    {
      "cell_type": "markdown",
      "source": [
        "## Load Mfccs"
      ],
      "metadata": {
        "id": "IHSw8L9i8PZW"
      }
    },
    {
      "cell_type": "code",
      "source": [
        "#import mfccs data\n",
        "def load_mfccs(path):\n",
        "\n",
        "  ''' Given the mfccs train folder path loads all needed data from the other folders  '''\n",
        "\n",
        "  folderDict = {\"train\": None, \"test\": None, \"val\": None}\n",
        "  prev_folder = \"train\"\n",
        "  for folder in folderDict.keys():\n",
        "\n",
        "      X_path = path.replace(prev_folder, folder) + \"/X.npy\"\n",
        "      labels_path = path.replace(prev_folder, folder) + \"/labels.npy\"\n",
        "\n",
        "      # convert labels from str ---> int\n",
        "      X = np.load(X_path)\n",
        "      X = np.float32(X)   # convert to float32 cause np = float64 whereas tensor = float32\n",
        "      labels = np.load(labels_path)\n",
        "      unique_labels, conv_labels = np.unique(labels, return_inverse=True)\n",
        "\n",
        "      #load to folder dict\n",
        "      folderDict[folder] = (X, conv_labels)\n",
        "      prev_folder = folder\n",
        "\n",
        "  data_files = folderDict\n",
        "\n",
        "  X_train, labels_train = data_files[\"train\"]\n",
        "  X_test, labels_test = data_files[\"test\"]\n",
        "  X_val, labels_val = data_files[\"val\"]\n",
        "\n",
        "  # return as tuples\n",
        "  return (X_train, labels_train), (X_test, labels_test), (X_val, labels_val)\n",
        "\n",
        "\n",
        "# Define custom dataset\n",
        "class Mfccs_Dataset(Dataset):\n",
        "    def __init__(self, data, labels):\n",
        "        self.data = data\n",
        "        self.labels = labels\n",
        "\n",
        "    def __len__(self):\n",
        "        return len(self.data)\n",
        "\n",
        "    def __getitem__(self, index):\n",
        "        sample = self.data[index]\n",
        "        label = self.labels[index]\n",
        "        return sample, label\n",
        "\n",
        "\n",
        "# Load files given the train/mfccs  folder\n",
        "path  = \"/content/drive/MyDrive/ML2_data/music_genre_data_di/train/mfccs\"\n",
        "train_data, test_data, val_data = load_mfccs(path)\n",
        "\n",
        "# decompose data tuple\n",
        "X_train, labels_train = train_data\n",
        "X_test, labels_test =  test_data\n",
        "X_val, labels_val = val_data\n",
        "\n",
        "# load as Datasets\n",
        "train_dataset = Mfccs_Dataset(X_train, labels_train)\n",
        "test_dataset = Mfccs_Dataset(X_test, labels_test)\n",
        "val_dataset = Mfccs_Dataset(X_val, labels_val)\n",
        "\n",
        "# load to Dataloaders\n",
        "train_dataloader = DataLoader(train_dataset, batch_size=16, shuffle=True)\n",
        "test_dataloader = DataLoader(test_dataset, batch_size=16, shuffle=False)\n",
        "val_dataloader = DataLoader(val_dataset, batch_size=16, shuffle=True)\n"
      ],
      "metadata": {
        "id": "hs3mNoaRLNs_"
      },
      "execution_count": null,
      "outputs": []
    },
    {
      "cell_type": "markdown",
      "source": [
        "## Define FFN Model"
      ],
      "metadata": {
        "id": "pddYDFrm8X8X"
      }
    },
    {
      "cell_type": "code",
      "source": [
        "class FNN(nn.Module):\n",
        "\n",
        "    def __init__(self, input_dim, hidden_dim, output_dim):\n",
        "        super(FNN, self).__init__()\n",
        "\n",
        "        self.layer_1 = nn.Linear(input_dim, hidden_dim[0])\n",
        "        self.layer_2 = nn.Linear(hidden_dim[0], hidden_dim[1])\n",
        "        self.layer_3 = nn.Linear(hidden_dim[1], output_dim)\n",
        "\n",
        "    def forward(self, x):\n",
        "        out1 = self.layer_1(x)\n",
        "        out2 = self.layer_2(out1)\n",
        "        out3 = self.layer_3(out2)\n",
        "        return out3\n",
        "\n",
        "# Initialize FNN model\n",
        "device = torch.device('cpu')\n",
        "\n",
        "input_dim = 26\n",
        "output_dim = 4\n",
        "hidden_dimensions = [128, 32]\n",
        "\n",
        "model = FNN(input_dim, hidden_dimensions, output_dim).to(device)"
      ],
      "metadata": {
        "id": "iwNHJIaMLN3H"
      },
      "execution_count": null,
      "outputs": []
    },
    {
      "cell_type": "markdown",
      "source": [
        "## Define Trainning Procedure"
      ],
      "metadata": {
        "id": "v8jhKBCu8gli"
      }
    },
    {
      "cell_type": "code",
      "source": [
        "def training(epochs, optimizer, dataloader, loss_fn, model, device, val_dataloader=None, print_loss=None, print_diff=None):\n",
        "\n",
        "    ''' Returns trained model or diff bettween train and validation loss  and prints loss for each epoch /\n",
        "        if validation dataloader is given returns best model selected  '''\n",
        "\n",
        "    epoch_losses = []\n",
        "    best_f1_score = -1\n",
        "    no_improvement = 0\n",
        "    no_improvement_tolerance = 8\n",
        "    diff_losses = []\n",
        "\n",
        "    for epoch in range(epochs):\n",
        "\n",
        "        model.train()\n",
        "        batch_losses = []\n",
        "        for x, y in dataloader:\n",
        "            x = x.to(device)\n",
        "            y = y.to(device)\n",
        "\n",
        "            # clear gradients  parameters\n",
        "            optimizer.zero_grad()\n",
        "\n",
        "            # predict\n",
        "            outputs = model(x)\n",
        "            loss = loss_fn(outputs, y)\n",
        "\n",
        "            # getting gradients  parameters\n",
        "            loss.backward()\n",
        "\n",
        "            # update parameters\n",
        "            optimizer.step()\n",
        "\n",
        "            batch_losses.append(loss.item())\n",
        "\n",
        "        epoch_loss = np.mean(batch_losses)\n",
        "        epoch_losses.append(epoch_loss)\n",
        "\n",
        "        # model selection\n",
        "        if val_dataloader:\n",
        "            eval_losses, current_f1_score, _, _ = evaluation(val_dataloader, loss_fn, model, device)\n",
        "            if print_diff:\n",
        "              diff_losses.append(abs(eval_losses - loss.item()))\n",
        "\n",
        "            if current_f1_score > best_f1_score:\n",
        "                best_f1_score = current_f1_score\n",
        "                torch.save(model.state_dict(), \"best_model\")\n",
        "                no_improvement = 0\n",
        "            else:\n",
        "                no_improvement += 1\n",
        "            # if f1_score keeps getting worse for more tha no_improvement_tolerance stop trainning\n",
        "            if no_improvement >= no_improvement_tolerance:\n",
        "                print(f\"Improvement fall down occured at {epoch + 1} epoch\")\n",
        "                break\n",
        "\n",
        "    if print_loss:\n",
        "        print(tabulate(enumerate(epoch_losses, start=1), headers=[\"Epoch\", \"Loss\"], tablefmt=\"github\"))\n",
        "\n",
        "    return model, diff_losses\n"
      ],
      "metadata": {
        "id": "4PrU5jSTLOFu"
      },
      "execution_count": null,
      "outputs": []
    },
    {
      "cell_type": "markdown",
      "source": [
        "## Define Evaluation Procedure"
      ],
      "metadata": {
        "id": "tqUKVBXS8oNL"
      }
    },
    {
      "cell_type": "code",
      "source": [
        "def evaluation(dataloader, loss_fn, model, device):\n",
        "    model.eval()\n",
        "    batch_losses = []\n",
        "    all_predictions = []\n",
        "    all_true = []\n",
        "\n",
        "    with torch.no_grad():\n",
        "        for x, y in dataloader:\n",
        "            x = x.to(device)\n",
        "            y = y.to(device)\n",
        "\n",
        "            # predict and calculate loss\n",
        "            outputs = model(x)\n",
        "            loss = loss_fn(outputs, y)\n",
        "            batch_losses.append(loss.item())\n",
        "\n",
        "            preds = outputs.argmax(dim=1)\n",
        "            all_predictions.extend(preds.cpu().numpy())\n",
        "            all_true.extend(y.cpu().numpy())\n",
        "\n",
        "    mean_loss = np.mean(batch_losses)\n",
        "    macro_score = f1_score(all_true, all_predictions, average='macro', zero_division=1)\n",
        "    accuracy = accuracy_score(all_true, all_predictions)\n",
        "    cfm = confusion_matrix(all_true, all_predictions)\n",
        "\n",
        "    model.train()\n",
        "\n",
        "    return mean_loss, macro_score, accuracy, cfm\n"
      ],
      "metadata": {
        "id": "AZ0B56axLOaB"
      },
      "execution_count": null,
      "outputs": []
    },
    {
      "cell_type": "markdown",
      "source": [
        "## Model Trainning with CPU"
      ],
      "metadata": {
        "id": "ZbS09ltF85iO"
      }
    },
    {
      "cell_type": "code",
      "source": [
        "device = 'cpu'\n",
        "\n",
        "learning_rate = 0.002\n",
        "loss_func = nn.CrossEntropyLoss()\n",
        "epochs_num = 30\n",
        "optimizer = optim.SGD(model.parameters(), lr=learning_rate)\n",
        "\n",
        "start_time = time.time()\n",
        "trained_model, _ = training(epochs_num, optimizer, train_dataloader, loss_func, model, device, print_loss=True)\n",
        "end_time = time.time()\n",
        "\n",
        "cpu_time = end_time - start_time\n",
        "\n",
        "test_losses, f1_macro_score, accuracy, cfm = evaluation(test_dataloader, loss_func, trained_model, device)\n",
        "\n",
        "print()\n",
        "print(\"REPORT:\")\n",
        "print(f\"Mean Loss: {np.mean(test_losses)} \" )\n",
        "print(f\"F1 Macro Score: {f1_macro_score}\")\n",
        "print(f\"Accracy: {accuracy}\")\n",
        "print(\"Confusion Matrix:\")\n",
        "print(cfm)\n"
      ],
      "metadata": {
        "id": "BSqfjKAYLOn7",
        "colab": {
          "base_uri": "https://localhost:8080/"
        },
        "outputId": "77e88356-71e0-4bf2-c551-aa8ae7127f28"
      },
      "execution_count": null,
      "outputs": [
        {
          "output_type": "stream",
          "name": "stdout",
          "text": [
            "|   Epoch |     Loss |\n",
            "|---------|----------|\n",
            "|       1 | 1.37299  |\n",
            "|       2 | 1.34726  |\n",
            "|       3 | 1.32026  |\n",
            "|       4 | 1.30047  |\n",
            "|       5 | 1.27653  |\n",
            "|       6 | 1.25177  |\n",
            "|       7 | 1.22704  |\n",
            "|       8 | 1.19591  |\n",
            "|       9 | 1.17161  |\n",
            "|      10 | 1.14605  |\n",
            "|      11 | 1.11963  |\n",
            "|      12 | 1.09927  |\n",
            "|      13 | 1.08137  |\n",
            "|      14 | 1.06096  |\n",
            "|      15 | 1.04667  |\n",
            "|      16 | 1.03777  |\n",
            "|      17 | 1.01947  |\n",
            "|      18 | 1.00615  |\n",
            "|      19 | 0.995799 |\n",
            "|      20 | 0.996423 |\n",
            "|      21 | 0.987697 |\n",
            "|      22 | 0.972534 |\n",
            "|      23 | 0.974414 |\n",
            "|      24 | 0.96754  |\n",
            "|      25 | 0.956685 |\n",
            "|      26 | 0.962046 |\n",
            "|      27 | 0.947147 |\n",
            "|      28 | 0.944495 |\n",
            "|      29 | 0.935298 |\n",
            "|      30 | 0.936546 |\n",
            "\n",
            "REPORT:\n",
            "Mean Loss: 0.951451342119727 \n",
            "F1 Macro Score: 0.6028480657690185\n",
            "Accracy: 0.6271802325581395\n",
            "Confusion Matrix:\n",
            "[[ 72  28 123 101]\n",
            " [ 30 238  20   9]\n",
            " [ 30  14 299  13]\n",
            " [ 43  37  65 254]]\n"
          ]
        }
      ]
    },
    {
      "cell_type": "markdown",
      "source": [
        "## Model Trainning with GPU"
      ],
      "metadata": {
        "id": "yyL3zneR9Chu"
      }
    },
    {
      "cell_type": "code",
      "source": [
        "device = \"mps\" if getattr(torch, 'has_mps', False) \\\n",
        "          else \"cuda\" if torch.cuda.is_available() \\\n",
        "          else \"cpu\"\n",
        "\n",
        "# Initialize model and optimizer\n",
        "model = FNN(input_dim, hidden_dimensions, output_dim).to(device)\n",
        "optimizer = optim.SGD(model.parameters(), lr=learning_rate)\n",
        "\n",
        "# Measure training time on GPU\n",
        "start_time = time.time()\n",
        "trained_model, _ = training(epochs_num, optimizer, train_dataloader, loss_func, model, device, print_loss=True)\n",
        "end_time = time.time()\n",
        "\n",
        "gpu_time = end_time - start_time\n",
        "\n",
        "# Print CPU and GPU training times\n",
        "print(f\"CPU Time: {cpu_time}\")\n",
        "print(f\"GPU Time: {gpu_time}\\n\")\n",
        "\n",
        "# Evaluate the model\n",
        "test_losses, f1_macro_score, accuracy, cfm = evaluation(test_dataloader, loss_func, trained_model, device)\n",
        "\n",
        "print()\n",
        "print(\"REPORT:\")\n",
        "print(f\"Mean Loss: {np.mean(test_losses)} \" )\n",
        "print(f\"F1 Macro Score: {f1_macro_score}\")\n",
        "print(f\"Accracy: {accuracy}\")\n",
        "print(\"Confusion Matrix:\")\n",
        "print(cfm)"
      ],
      "metadata": {
        "id": "O9rBi_CfLYG3",
        "colab": {
          "base_uri": "https://localhost:8080/"
        },
        "outputId": "619c496b-7a3a-45ce-be9b-885ca803e827"
      },
      "execution_count": null,
      "outputs": [
        {
          "output_type": "stream",
          "name": "stderr",
          "text": [
            "<ipython-input-8-ad2676cf714a>:1: UserWarning: 'has_mps' is deprecated, please use 'torch.backends.mps.is_built()'\n",
            "  device = \"mps\" if getattr(torch, 'has_mps', False) \\\n"
          ]
        },
        {
          "output_type": "stream",
          "name": "stdout",
          "text": [
            "|   Epoch |     Loss |\n",
            "|---------|----------|\n",
            "|       1 | 1.39692  |\n",
            "|       2 | 1.37507  |\n",
            "|       3 | 1.3604   |\n",
            "|       4 | 1.34146  |\n",
            "|       5 | 1.32133  |\n",
            "|       6 | 1.30427  |\n",
            "|       7 | 1.28014  |\n",
            "|       8 | 1.2551   |\n",
            "|       9 | 1.22752  |\n",
            "|      10 | 1.20523  |\n",
            "|      11 | 1.18135  |\n",
            "|      12 | 1.15216  |\n",
            "|      13 | 1.13206  |\n",
            "|      14 | 1.11501  |\n",
            "|      15 | 1.09493  |\n",
            "|      16 | 1.07291  |\n",
            "|      17 | 1.06119  |\n",
            "|      18 | 1.04625  |\n",
            "|      19 | 1.02806  |\n",
            "|      20 | 1.01985  |\n",
            "|      21 | 1.00976  |\n",
            "|      22 | 1.00013  |\n",
            "|      23 | 0.987438 |\n",
            "|      24 | 0.986773 |\n",
            "|      25 | 0.977385 |\n",
            "|      26 | 0.962179 |\n",
            "|      27 | 0.955855 |\n",
            "|      28 | 0.953749 |\n",
            "|      29 | 0.951697 |\n",
            "|      30 | 0.946911 |\n",
            "CPU Time: 5.7926435470581055\n",
            "GPU Time: 7.477564334869385\n",
            "\n",
            "\n",
            "REPORT:\n",
            "Mean Loss: 0.9859579427297726 \n",
            "F1 Macro Score: 0.6088978331634811\n",
            "Accracy: 0.6039244186046512\n",
            "Confusion Matrix:\n",
            "[[130   8  95  91]\n",
            " [ 85 183  14  15]\n",
            " [ 70   6 264  16]\n",
            " [ 86   8  51 254]]\n"
          ]
        }
      ]
    },
    {
      "cell_type": "markdown",
      "source": [
        "## Model Selection"
      ],
      "metadata": {
        "id": "59Jq34Gr9LBD"
      }
    },
    {
      "cell_type": "code",
      "source": [
        "device = 'cpu'\n",
        "\n",
        "model = FNN(input_dim, hidden_dimensions, output_dim).to(device)\n",
        "optimizer = optim.SGD(model.parameters(), lr=learning_rate)\n",
        "\n",
        "trained_model, _ = training(epochs_num, optimizer, train_dataloader, loss_func, model, device, val_dataloader, print_loss=True)\n",
        "\n",
        "test_losses, f1_macro_score, accuracy, cfm = evaluation(test_dataloader, loss_func, trained_model, device)\n",
        "\n",
        "print()\n",
        "print(\"REPORT:\")\n",
        "print(f\"Mean Loss: {np.mean(test_losses)} \" )\n",
        "print(f\"F1 Macro Score: {f1_macro_score}\")\n",
        "print(f\"Accracy: {accuracy}\")\n",
        "print(\"Confusion Matrix:\")\n",
        "print(cfm)\n"
      ],
      "metadata": {
        "id": "wC4K8MwlLYTW",
        "colab": {
          "base_uri": "https://localhost:8080/"
        },
        "outputId": "66f3bf03-2b96-440f-c226-08bb718792e2"
      },
      "execution_count": null,
      "outputs": [
        {
          "output_type": "stream",
          "name": "stdout",
          "text": [
            "Improvement fall down occured at 22 epoch\n",
            "|   Epoch |     Loss |\n",
            "|---------|----------|\n",
            "|       1 | 1.39225  |\n",
            "|       2 | 1.36144  |\n",
            "|       3 | 1.33979  |\n",
            "|       4 | 1.31365  |\n",
            "|       5 | 1.2883   |\n",
            "|       6 | 1.26075  |\n",
            "|       7 | 1.23598  |\n",
            "|       8 | 1.20634  |\n",
            "|       9 | 1.1784   |\n",
            "|      10 | 1.15     |\n",
            "|      11 | 1.11899  |\n",
            "|      12 | 1.10058  |\n",
            "|      13 | 1.07022  |\n",
            "|      14 | 1.05438  |\n",
            "|      15 | 1.03869  |\n",
            "|      16 | 1.02134  |\n",
            "|      17 | 1.00553  |\n",
            "|      18 | 0.991898 |\n",
            "|      19 | 0.985528 |\n",
            "|      20 | 0.977852 |\n",
            "|      21 | 0.966294 |\n",
            "|      22 | 0.956703 |\n",
            "\n",
            "REPORT:\n",
            "Mean Loss: 0.9775539291805999 \n",
            "F1 Macro Score: 0.5985160407717371\n",
            "Accracy: 0.6242732558139535\n",
            "Confusion Matrix:\n",
            "[[ 63  20 155  86]\n",
            " [ 36 227  22  12]\n",
            " [ 20  10 316  10]\n",
            " [ 49  22  75 253]]\n"
          ]
        }
      ]
    },
    {
      "cell_type": "markdown",
      "source": [
        "# Q2. Convolutional Neural Network\n"
      ],
      "metadata": {
        "id": "Fgh9Bl2cLfYg"
      }
    },
    {
      "cell_type": "markdown",
      "source": [
        "## Load Melgrams"
      ],
      "metadata": {
        "id": "sV4_SQ_n9cVP"
      }
    },
    {
      "cell_type": "code",
      "source": [
        "def load_melgrams(path):\n",
        "\n",
        "    folderDict = {\"train\": None, \"test\": None, \"val\": None}\n",
        "\n",
        "    for folder in folderDict.keys():\n",
        "        folder_path = path.replace(\"train\", folder)\n",
        "        X_path = os.path.join(folder_path, \"X.npy\")\n",
        "        labels_path = os.path.join(folder_path, \"labels.npy\")\n",
        "\n",
        "        X = np.load(X_path)\n",
        "        X = np.float32(X)\n",
        "        labels = np.load(labels_path)\n",
        "\n",
        "        unique_labels, conv_labels = np.unique(labels, return_inverse=True)\n",
        "\n",
        "        folderDict[folder] = (X, conv_labels)\n",
        "\n",
        "    X_train, labels_train = folderDict[\"train\"]\n",
        "    X_test, labels_test = folderDict[\"test\"]\n",
        "    X_val, labels_val = folderDict[\"val\"]\n",
        "\n",
        "    return (X_train, labels_train), (X_test, labels_test), (X_val, labels_val)\n",
        "\n",
        "# define custom dataset  melgrams\n",
        "class Melgrams_Dataset(Dataset):\n",
        "    def __init__(self, data, labels):\n",
        "        self.data = torch.from_numpy(data[:, np.newaxis, :, :])\n",
        "        self.labels = torch.from_numpy(labels)\n",
        "\n",
        "    def __len__(self):\n",
        "        return len(self.labels)\n",
        "\n",
        "    def __getitem__(self, index):\n",
        "        return self.data[index], self.labels[index]"
      ],
      "metadata": {
        "id": "wUSWEGTLLYc_"
      },
      "execution_count": null,
      "outputs": []
    },
    {
      "cell_type": "code",
      "source": [
        "# Load data giving train melgrams folder\n",
        "path = \"/content/drive/MyDrive/ML2_data/music_genre_data_di/train/melgrams\"\n",
        "(train_data, train_labels), (test_data, test_labels), (val_data, val_labels) = load_melgrams(path)\n",
        "\n",
        "labels_dict = {0: \"blues\", 1: \"classical\", 2: \"pop\", 3: \"rock\"}\n",
        "\n",
        "# load as Datasets\n",
        "train_dataset = Melgrams_Dataset(train_data, train_labels)\n",
        "val_dataset = Melgrams_Dataset(val_data, val_labels)\n",
        "test_dataset = Melgrams_Dataset(test_data, test_labels)\n",
        "\n",
        "# load to dataloaders\n",
        "train_dataloader = DataLoader(dataset=train_dataset, batch_size=16, shuffle=True)\n",
        "val_dataloader = DataLoader(dataset=val_dataset, batch_size=16, shuffle=True)\n",
        "test_dataloader = DataLoader(dataset=test_dataset, batch_size=16)\n",
        "\n",
        "# Visualize a random melgram from each genre\n",
        "fig, axs = plt.subplots(2, 2, figsize=(20, 10))\n",
        "axs = axs.ravel()\n",
        "\n",
        "for i, genre in enumerate(np.unique(train_labels)):\n",
        "    genre_indices = np.where(train_labels == genre)[0]\n",
        "    rand_index = random.choice(genre_indices)\n",
        "    librosa.display.specshow(train_data[rand_index].T, ax=axs[i], x_axis='s', y_axis='log')\n",
        "    axs[i].set_title(f\"{labels_dict[genre]} [{rand_index}]\")\n",
        "\n",
        "plt.show()\n"
      ],
      "metadata": {
        "id": "8oVPoWFlLYr1",
        "colab": {
          "base_uri": "https://localhost:8080/",
          "height": 548
        },
        "outputId": "677c2636-aa38-45c8-b3b3-b2e1485aa89e"
      },
      "execution_count": null,
      "outputs": [
        {
          "output_type": "display_data",
          "data": {
            "text/plain": [
              "<Figure size 2000x1000 with 4 Axes>"
            ],
            "image/png": "[encoded data removed]"
          },
          "metadata": {}
        }
      ]
    },
    {
      "cell_type": "markdown",
      "source": [
        "## Define CNN Model"
      ],
      "metadata": {
        "id": "AD0Gj_DgLvFt"
      }
    },
    {
      "cell_type": "code",
      "source": [
        "\n",
        "class CNN(nn.Module):\n",
        "    def __init__(self, num_classes, kernel_size=5, padding=0, stride=1, pooling=False, pooling_kernel_size=2, activation_function=None, batch_norm=False, dropout=None):\n",
        "        super(CNN, self).__init__()\n",
        "\n",
        "        self.pooling = pooling\n",
        "        self.activation_function = activation_function\n",
        "        self.batch_norm = batch_norm\n",
        "\n",
        "        self.conv_layers = nn.ModuleList([\n",
        "            nn.Conv2d(1, 16, kernel_size=kernel_size, padding=padding, stride=stride),\n",
        "            nn.Conv2d(16, 32, kernel_size=kernel_size, padding=padding, stride=stride),\n",
        "            nn.Conv2d(32, 64, kernel_size=kernel_size, padding=padding, stride=stride),\n",
        "            nn.Conv2d(64, 128, kernel_size=kernel_size, padding=padding, stride=stride)\n",
        "        ])\n",
        "\n",
        "        self.batch_norm_layers = nn.ModuleList([\n",
        "            nn.BatchNorm2d(16),\n",
        "            nn.BatchNorm2d(32),\n",
        "            nn.BatchNorm2d(64),\n",
        "            nn.BatchNorm2d(128)\n",
        "        ])\n",
        "\n",
        "        self.flatten = nn.Flatten()\n",
        "\n",
        "        height, width = 21, 128\n",
        "        for _ in range(4):\n",
        "            height = (height - kernel_size + 2 * padding) / stride + 1\n",
        "            width = (width - kernel_size + 2 * padding) / stride + 1\n",
        "            if pooling:\n",
        "                height = (height - pooling_kernel_size) // pooling_kernel_size + 1\n",
        "                width = (width - pooling_kernel_size) // pooling_kernel_size + 1\n",
        "\n",
        "        conv_output_dim = int(height * width * 128)\n",
        "\n",
        "        self.dropout_value = dropout\n",
        "        if dropout:\n",
        "            self.dropout = nn.Dropout(dropout)\n",
        "\n",
        "        self.fc_layers = nn.Sequential(\n",
        "            nn.Linear(conv_output_dim, 1024),\n",
        "            nn.Linear(1024, 256),\n",
        "            nn.Linear(256, 32),\n",
        "            nn.Linear(32, num_classes)\n",
        "        )\n",
        "\n",
        "    def forward(self, x):\n",
        "        for i, conv_layer in enumerate(self.conv_layers):\n",
        "            x = conv_layer(x)\n",
        "            if self.batch_norm:\n",
        "                x = self.batch_norm_layers[i](x)\n",
        "            if self.activation_function:\n",
        "                x = self.activation_function(x)\n",
        "            if self.pooling:\n",
        "                x = F.max_pool2d(x, kernel_size=2)\n",
        "\n",
        "        x = self.flatten(x)\n",
        "\n",
        "        for fc_layer in self.fc_layers:\n",
        "            x = fc_layer(x)\n",
        "            if self.activation_function:\n",
        "                x = self.activation_function(x)\n",
        "            if self.dropout_value:\n",
        "                x = self.dropout(x)\n",
        "\n",
        "        return x\n",
        "\n",
        "# Initialize CNN Model\n",
        "output_dim = 4\n",
        "model = CNN(num_classes=output_dim, kernel_size=5, padding=0, stride=1, pooling=False, pooling_kernel_size=2,\n",
        "            activation_function=None, batch_norm=True, dropout=None)\n"
      ],
      "metadata": {
        "id": "d1w4JkYLLY9i"
      },
      "execution_count": null,
      "outputs": []
    },
    {
      "cell_type": "markdown",
      "source": [
        "## Train Model"
      ],
      "metadata": {
        "id": "HNwGaaN99nni"
      }
    },
    {
      "cell_type": "code",
      "source": [
        "\n",
        "device = \"mps\" if getattr(torch, 'has_mps', False) else \"cuda\" if torch.cuda.is_available() else \"cpu\"\n",
        "\n",
        "# Initialize model\n",
        "model = CNN(num_classes=output_dim, kernel_size=5, padding=0, stride=1, pooling=False, pooling_kernel_size=2, activation_function=None, batch_norm=False, dropout=None).to(device)\n",
        "learning_rate = 0.002\n",
        "loss_func = nn.CrossEntropyLoss()\n",
        "epochs_num = 30\n",
        "optimizer = optim.SGD(model.parameters(), lr=learning_rate)\n",
        "\n",
        "# Train\n",
        "start_time = time.time()\n",
        "trained_model, _ = training(epochs_num, optimizer, train_dataloader, loss_func, model, device, val_dataloader=None, print_loss=True)\n",
        "end_time = time.time()\n",
        "\n",
        "gpu_time = end_time - start_time\n",
        "print(f\"Training time on GPU: {gpu_time} seconds\")\n",
        "\n",
        "# Evaluate\n",
        "test_losses, f1_macro_score, accuracy, cfm = evaluation(test_dataloader, loss_func, trained_model, device)\n",
        "\n",
        "print()\n",
        "print(\"REPORT:\")\n",
        "print(f\"Mean Loss: {np.mean(test_losses)} \" )\n",
        "print(f\"F1 Macro Score: {f1_macro_score}\")\n",
        "print(f\"Accracy: {accuracy}\")\n",
        "print(\"Confusion Matrix:\")\n",
        "print(cfm)"
      ],
      "metadata": {
        "id": "Jo-M7psTL1l1",
        "colab": {
          "base_uri": "https://localhost:8080/"
        },
        "outputId": "a0cb71d4-650c-4f3b-cf43-a469c9c418e0",
        "collapsed": true
      },
      "execution_count": null,
      "outputs": [
        {
          "output_type": "stream",
          "name": "stderr",
          "text": [
            "<ipython-input-13-cc50452b0b2e>:1: UserWarning: 'has_mps' is deprecated, please use 'torch.backends.mps.is_built()'\n",
            "  device = \"mps\" if getattr(torch, 'has_mps', False) else \"cuda\" if torch.cuda.is_available() else \"cpu\"\n"
          ]
        },
        {
          "output_type": "stream",
          "name": "stdout",
          "text": [
            "|   Epoch |   Loss |\n",
            "|---------|--------|\n",
            "|       1 |    nan |\n",
            "|       2 |    nan |\n",
            "|       3 |    nan |\n",
            "|       4 |    nan |\n",
            "|       5 |    nan |\n",
            "|       6 |    nan |\n",
            "|       7 |    nan |\n",
            "|       8 |    nan |\n",
            "|       9 |    nan |\n",
            "|      10 |    nan |\n",
            "|      11 |    nan |\n",
            "|      12 |    nan |\n",
            "|      13 |    nan |\n",
            "|      14 |    nan |\n",
            "|      15 |    nan |\n",
            "|      16 |    nan |\n",
            "|      17 |    nan |\n",
            "|      18 |    nan |\n",
            "|      19 |    nan |\n",
            "|      20 |    nan |\n",
            "|      21 |    nan |\n",
            "|      22 |    nan |\n",
            "|      23 |    nan |\n",
            "|      24 |    nan |\n",
            "|      25 |    nan |\n",
            "|      26 |    nan |\n",
            "|      27 |    nan |\n",
            "|      28 |    nan |\n",
            "|      29 |    nan |\n",
            "|      30 |    nan |\n",
            "Training time on GPU: 103.51880598068237 seconds\n",
            "\n",
            "REPORT:\n",
            "Mean Loss: nan \n",
            "F1 Macro Score: 0.09529411764705882\n",
            "Accracy: 0.23546511627906977\n",
            "Confusion Matrix:\n",
            "[[324   0   0   0]\n",
            " [297   0   0   0]\n",
            " [356   0   0   0]\n",
            " [399   0   0   0]]\n"
          ]
        }
      ]
    },
    {
      "cell_type": "markdown",
      "source": [
        "Παρατηρουμε οτι το δικτυο δεν μπορει να εκπεδευτει αφου το σφαλμα αυξανεται συνεχως.\n",
        "\n",
        "Βλεπουμε οτι με χρηση CPU ο χρονος εκτελεσης ειναι πολυ μεγαλυτερος σε σχεση με το προηγουμενο ερωτημα (1 ωρα +) ενω με GPU ειναι ισος με καποια δευτερολεπτα.Σε συγκριση με το προηγουμε ερωτημα η αναλογια εναι εντελως διαφορετικη.Στη πρωτη περιπτωση ο χρονος εκτελεσης με cpu ειναι μικροτερος απο αυτον της gpu (αφου το δικτυο ειναι αρκετα πιο απλο και τα δεδομενα οχι τοσο συνθετα δεν υπαρχει αναγκη για παραλληλο προγραμματισμο).Στην δευτερη περιπτωση το δικτυο ειναι αρκετα πιο συνθετο και μεγαλο οποτε η gpu εδω μας οφελει."
      ],
      "metadata": {
        "id": "bMFGiF86zSkn"
      }
    },
    {
      "cell_type": "markdown",
      "source": [
        "## Pooling and Padding"
      ],
      "metadata": {
        "id": "LykFpWA19-rt"
      }
    },
    {
      "cell_type": "code",
      "source": [
        "device = \"mps\" if getattr(torch, 'has_mps', False) else \"cuda\" if torch.cuda.is_available() else \"cpu\"\n",
        "\n",
        "# Initialize model\n",
        "model = CNN(num_classes=output_dim, kernel_size=5, padding=2, stride=1, pooling=True, pooling_kernel_size=2,\n",
        "    activation_function=None, batch_norm=False, dropout=None).to(device)\n",
        "\n",
        "learning_rate = 0.002\n",
        "loss_func = nn.CrossEntropyLoss()\n",
        "epochs_num = 30\n",
        "optimizer = optim.SGD(model.parameters(), lr=learning_rate)\n",
        "\n",
        "# Train\n",
        "trained_model, _ = training(epochs_num, optimizer, train_dataloader, loss_func, model, device, val_dataloader=None, print_loss=True)\n",
        "\n",
        "print(f\"Training time on GPU: {gpu_time} seconds\")\n",
        "\n",
        "# Evaluate\n",
        "test_losses, f1_macro_score, accuracy, cfm = evaluation(test_dataloader, loss_func, trained_model, device)\n",
        "\n",
        "print()\n",
        "print(\"REPORT:\")\n",
        "print(f\"Mean Loss: {np.mean(test_losses)} \" )\n",
        "print(f\"F1 Macro Score: {f1_macro_score}\")\n",
        "print(f\"Accracy: {accuracy}\")\n",
        "print(\"Confusion Matrix:\")\n",
        "print(cfm)\n"
      ],
      "metadata": {
        "id": "kfIGcKQ4L15G",
        "colab": {
          "base_uri": "https://localhost:8080/"
        },
        "outputId": "0eee22c3-dd12-4fb1-964c-d45b765ce0e7"
      },
      "execution_count": null,
      "outputs": [
        {
          "output_type": "stream",
          "name": "stderr",
          "text": [
            "<ipython-input-14-6d575c74553c>:1: UserWarning: 'has_mps' is deprecated, please use 'torch.backends.mps.is_built()'\n",
            "  device = \"mps\" if getattr(torch, 'has_mps', False) else \"cuda\" if torch.cuda.is_available() else \"cpu\"\n"
          ]
        },
        {
          "output_type": "stream",
          "name": "stdout",
          "text": [
            "|   Epoch |      Loss |\n",
            "|---------|-----------|\n",
            "|       1 | 1.33563   |\n",
            "|       2 | 1.19715   |\n",
            "|       3 | 1.05311   |\n",
            "|       4 | 0.937898  |\n",
            "|       5 | 0.862271  |\n",
            "|       6 | 0.803576  |\n",
            "|       7 | 0.748149  |\n",
            "|       8 | 0.702496  |\n",
            "|       9 | 0.670583  |\n",
            "|      10 | 0.650416  |\n",
            "|      11 | 0.596629  |\n",
            "|      12 | 0.588547  |\n",
            "|      13 | 0.544138  |\n",
            "|      14 | 0.513999  |\n",
            "|      15 | 0.472213  |\n",
            "|      16 | 0.44061   |\n",
            "|      17 | 0.411735  |\n",
            "|      18 | 0.381659  |\n",
            "|      19 | 0.338324  |\n",
            "|      20 | 0.305224  |\n",
            "|      21 | 0.258939  |\n",
            "|      22 | 0.226683  |\n",
            "|      23 | 0.180785  |\n",
            "|      24 | 0.144565  |\n",
            "|      25 | 0.106691  |\n",
            "|      26 | 0.210492  |\n",
            "|      27 | 0.0789136 |\n",
            "|      28 | 0.0455085 |\n",
            "|      29 | 0.0321238 |\n",
            "|      30 | 0.0207702 |\n",
            "Training time on GPU: 103.51880598068237 seconds\n",
            "\n",
            "REPORT:\n",
            "Mean Loss: 1.192884228255892 \n",
            "F1 Macro Score: 0.7374698710355782\n",
            "Accracy: 0.7303779069767442\n",
            "Confusion Matrix:\n",
            "[[196   8  33  87]\n",
            " [ 21 264   4   8]\n",
            " [ 35   5 274  42]\n",
            " [ 76  10  42 271]]\n"
          ]
        }
      ]
    },
    {
      "cell_type": "markdown",
      "source": [
        "Max Pooling: Η λειτουργεια αυτη πραγματοποιει down sampling στο feature map επιλεγοντας τα πιο σημαντικα χαρακτηριστικα.\n",
        "\n",
        "Padding: Πραγματοποιειται μετα το pooling και ειναι η προσθηκη επιπλεον μηδενικων πριν απο την συνελιξη στο feature map.\n",
        "\n",
        "F1 Score = 70%\n",
        "\n",
        "Accracy = 70%\n",
        "\n",
        "Επομενως, οι συγκεκριμενες τεχνικες ειναι σημαντικα χρησιμες αφου οι επιδοσεις του μοντελου μας αυξηθηκαν"
      ],
      "metadata": {
        "id": "pxPWsWrH2nl_"
      }
    },
    {
      "cell_type": "markdown",
      "source": [
        "## Activation Functions"
      ],
      "metadata": {
        "id": "JIyBnXFa-KFW"
      }
    },
    {
      "cell_type": "code",
      "source": [
        "device = \"mps\" if getattr(torch, 'has_mps', False) else \"cuda\" if torch.cuda.is_available() else \"cpu\"\n",
        "\n",
        "# Initialize model\n",
        "model = CNN(num_classes=output_dim, kernel_size=5, padding=0, stride=1, pooling=False, pooling_kernel_size=2,\n",
        "    activation_function=F.relu, batch_norm=False, dropout=None).to(device)\n",
        "\n",
        "learning_rate = 0.002\n",
        "loss_func = nn.CrossEntropyLoss()\n",
        "epochs_num = 30\n",
        "optimizer = optim.SGD(model.parameters(), lr=learning_rate)\n",
        "\n",
        "# Train\n",
        "trained_model, _ = training(epochs_num, optimizer, train_dataloader, loss_func, model, device, val_dataloader=None, print_loss=True)\n",
        "\n",
        "# Evaluate\n",
        "test_losses, f1_macro_score, accuracy, cfm = evaluation(test_dataloader, loss_func, trained_model, device)\n",
        "\n",
        "print()\n",
        "print(\"REPORT:\")\n",
        "print(f\"Mean Loss: {np.mean(test_losses)} \" )\n",
        "print(f\"F1 Macro Score: {f1_macro_score}\")\n",
        "print(f\"Accracy: {accuracy}\")\n",
        "print(\"Confusion Matrix:\")\n",
        "print(cfm)"
      ],
      "metadata": {
        "id": "GT1fJMxhL2Kj",
        "colab": {
          "base_uri": "https://localhost:8080/"
        },
        "outputId": "06c2e33f-251d-4a99-857f-568af5b54d7b"
      },
      "execution_count": null,
      "outputs": [
        {
          "output_type": "stream",
          "name": "stderr",
          "text": [
            "<ipython-input-15-3da2a9d66288>:1: UserWarning: 'has_mps' is deprecated, please use 'torch.backends.mps.is_built()'\n",
            "  device = \"mps\" if getattr(torch, 'has_mps', False) else \"cuda\" if torch.cuda.is_available() else \"cpu\"\n"
          ]
        },
        {
          "output_type": "stream",
          "name": "stdout",
          "text": [
            "|   Epoch |       Loss |\n",
            "|---------|------------|\n",
            "|       1 | 1.3444     |\n",
            "|       2 | 1.25561    |\n",
            "|       3 | 1.19631    |\n",
            "|       4 | 1.16451    |\n",
            "|       5 | 1.13672    |\n",
            "|       6 | 1.08645    |\n",
            "|       7 | 1.03419    |\n",
            "|       8 | 1.03193    |\n",
            "|       9 | 0.963058   |\n",
            "|      10 | 0.88734    |\n",
            "|      11 | 0.827183   |\n",
            "|      12 | 0.788268   |\n",
            "|      13 | 0.760785   |\n",
            "|      14 | 0.706012   |\n",
            "|      15 | 0.68801    |\n",
            "|      16 | 0.613165   |\n",
            "|      17 | 0.552143   |\n",
            "|      18 | 0.520094   |\n",
            "|      19 | 0.444825   |\n",
            "|      20 | 0.395777   |\n",
            "|      21 | 0.310424   |\n",
            "|      22 | 0.331509   |\n",
            "|      23 | 0.304695   |\n",
            "|      24 | 0.154787   |\n",
            "|      25 | 0.110259   |\n",
            "|      26 | 0.102494   |\n",
            "|      27 | 0.126085   |\n",
            "|      28 | 0.0753793  |\n",
            "|      29 | 0.017557   |\n",
            "|      30 | 0.00670833 |\n",
            "\n",
            "REPORT:\n",
            "Mean Loss: 2.310288435259027 \n",
            "F1 Macro Score: 0.6322077413504523\n",
            "Accracy: 0.6293604651162791\n",
            "Confusion Matrix:\n",
            "[[150  26  52  96]\n",
            " [ 27 239   8  23]\n",
            " [ 49  14 236  57]\n",
            " [ 67  27  64 241]]\n"
          ]
        }
      ]
    },
    {
      "cell_type": "markdown",
      "source": [
        "Βλεπουμε οτι η επιλογη της συγκεκριμενης activation function δεν ειναι καλη για το μοντελο μας με τα optimisations που εχουμε επιλεξει  καθως μειωνει δραστικα τις επιδοσεις μας.  "
      ],
      "metadata": {
        "id": "bZNDfGds5co9"
      }
    },
    {
      "cell_type": "markdown",
      "source": [
        "##  Reproductabillity"
      ],
      "metadata": {
        "id": "IyKILSYu-PEK"
      }
    },
    {
      "cell_type": "code",
      "source": [
        "def torch_seed(seed=1):\n",
        "    random.seed(seed)\n",
        "    np.random.seed(seed)\n",
        "    torch.manual_seed(seed)\n",
        "    torch.cuda.manual_seed_all(seed)\n",
        "    torch.backends.cudnn.benchmark = False\n",
        "    os.environ['PYTHONHASHSEED'] = str(seed)\n",
        "    torch.backends.cudnn.deterministic = True\n",
        "\n",
        "torch_seed()"
      ],
      "metadata": {
        "id": "Q_JEJF_pL7jE"
      },
      "execution_count": null,
      "outputs": []
    },
    {
      "cell_type": "markdown",
      "source": [
        "## Optimizers"
      ],
      "metadata": {
        "id": "ueD-svoB-bx6"
      }
    },
    {
      "cell_type": "code",
      "source": [
        "# seed\n",
        "torch_seed()\n",
        "\n",
        "device = \"mps\" if getattr(torch, 'has_mps', False) else \"cuda\" if torch.cuda.is_available() else \"cpu\"\n",
        "\n",
        "# define model\n",
        "output_dim = 4\n",
        "learning_rate = 0.002\n",
        "loss_func = nn.CrossEntropyLoss()\n",
        "epochs_num = 30\n",
        "\n",
        "# optimizers to test\n",
        "optimizers = {\n",
        "    \"sgd\": torch.optim.SGD,\n",
        "    \"asgd\": torch.optim.ASGD,\n",
        "    \"adagrad\": torch.optim.Adagrad,\n",
        "    \"adadelta\": torch.optim.Adadelta,\n",
        "    \"adam\": torch.optim.Adam,\n",
        "    \"radam\": torch.optim.RAdam\n",
        "}\n",
        "\n",
        "all_accuracies = []\n",
        "all_f1 = []\n",
        "\n",
        "# For each optimizer\n",
        "for opt_name, opt_class in optimizers.items():\n",
        "\n",
        "    # reinitialize model\n",
        "    model = CNN(num_classes=output_dim, kernel_size=5, padding=2, stride=1, pooling=True, pooling_kernel_size=2,\n",
        "        activation_function=None, batch_norm=True, dropout=0.5).to(device)\n",
        "\n",
        "    optimizer = opt_class(model.parameters(), lr=learning_rate)\n",
        "\n",
        "    # Train\n",
        "    trained_model, _ = training(epochs_num, optimizer, train_dataloader, loss_func, model, device, val_dataloader=None, print_loss=False)\n",
        "\n",
        "    # Evaluate\n",
        "    test_loss, f1_macro_score, accuracy, cfm = evaluation(test_dataloader, loss_func, trained_model, device)\n",
        "\n",
        "    all_accuracies.append((opt_name, accuracy, f1_macro_score))\n",
        "\n",
        "\n",
        "# results\n",
        "print(tabulate(all_accuracies, headers=[\"Optimizer\", \"Accuracy\", \"F1 score\"], tablefmt=\"github\"))\n",
        "\n"
      ],
      "metadata": {
        "id": "pboeQXzRL2Z6",
        "colab": {
          "base_uri": "https://localhost:8080/"
        },
        "outputId": "c5c90ba9-3489-4489-d83c-daced094fba1"
      },
      "execution_count": null,
      "outputs": [
        {
          "output_type": "stream",
          "name": "stderr",
          "text": [
            "<ipython-input-17-af541f638b5f>:4: UserWarning: 'has_mps' is deprecated, please use 'torch.backends.mps.is_built()'\n",
            "  device = \"mps\" if getattr(torch, 'has_mps', False) else \"cuda\" if torch.cuda.is_available() else \"cpu\"\n"
          ]
        },
        {
          "output_type": "stream",
          "name": "stdout",
          "text": [
            "| Optimizer   |   Accuracy |   F1 score |\n",
            "|-------------|------------|------------|\n",
            "| sgd         |   0.68314  |   0.669068 |\n",
            "| asgd        |   0.611192 |   0.58898  |\n",
            "| adagrad     |   0.751453 |   0.760288 |\n",
            "| adadelta    |   0.739826 |   0.718396 |\n",
            "| adam        |   0.690407 |   0.670907 |\n",
            "| radam       |   0.638808 |   0.63048  |\n"
          ]
        }
      ]
    },
    {
      "cell_type": "markdown",
      "source": [
        "Βλεπουμε οτι η επιλογη του optimizer επηρεαζει σημαντικα την επιδοση του μοντελου αφου οπως βλεπουμε εχουμε πιο χαμηλες αλλα  καιμεγαλυτερες επιδοσης\n",
        "\n",
        "Ο καλυτερος στην δικη μας περιπτωση ειναι ο Adagrad"
      ],
      "metadata": {
        "id": "-cZ6gAiE6AYa"
      }
    },
    {
      "cell_type": "markdown",
      "source": [
        "## Batch Normalisation"
      ],
      "metadata": {
        "id": "Ps1BaKZj-nX2"
      }
    },
    {
      "cell_type": "code",
      "source": [
        "torch_seed()\n",
        "\n",
        "# initialize model\n",
        "model = CNN(num_classes=output_dim, kernel_size=5, padding=2, stride=1, pooling=True, pooling_kernel_size=2,\n",
        "            activation_function=None, batch_norm=True, dropout=None).to(device)\n",
        "\n",
        "# initialize optimizer\n",
        "optimizer = torch.optim.SGD(model.parameters(), lr=learning_rate)\n",
        "\n",
        "# Train\n",
        "trained_model, _ = training(epochs_num, optimizer, train_dataloader, loss_func, model, device, val_dataloader=None, print_loss=False)\n",
        "\n",
        "# Evaluate\n",
        "test_loss, f1_macro_score, accuracy, cfm = evaluation(test_dataloader, loss_func, trained_model, device)\n",
        "\n",
        "print()\n",
        "print(\"REPORT:\")\n",
        "print(f\"Mean Evaluation Loss: {np.mean(test_loss)} \")\n",
        "print(f\"F1 Macro Score: {f1_macro_score}\")\n",
        "print(f\"Accracy: {accuracy}\")\n",
        "print(\"Confusion Matrix:\")\n",
        "print(cfm)\n"
      ],
      "metadata": {
        "id": "y_Yju0yKMJkt",
        "colab": {
          "base_uri": "https://localhost:8080/"
        },
        "outputId": "83e3203c-3a36-4471-e688-6cc5571b4a4c"
      },
      "execution_count": null,
      "outputs": [
        {
          "output_type": "stream",
          "name": "stdout",
          "text": [
            "\n",
            "REPORT:\n",
            "Mean Evaluation Loss: 0.8955273824989871 \n",
            "F1 Macro Score: 0.7862586130199154\n",
            "Accracy: 0.784156976744186\n",
            "Confusion Matrix:\n",
            "[[205  11  40  68]\n",
            " [  8 284   1   4]\n",
            " [ 25   5 309  17]\n",
            " [ 73  13  32 281]]\n"
          ]
        }
      ]
    },
    {
      "cell_type": "markdown",
      "source": [
        "## Regularization"
      ],
      "metadata": {
        "id": "KP8GTQPW-uGn"
      }
    },
    {
      "cell_type": "markdown",
      "source": [
        "### i) Diffrent weight decays"
      ],
      "metadata": {
        "id": "iAAhUvcN-1a-"
      }
    },
    {
      "cell_type": "code",
      "source": [
        "# weight decay values a very small, the default and a larger one\n",
        "weight_decays = [0.001, 0.01, 0.1]\n",
        "\n",
        "device = \"mps\" if getattr(torch, 'has_mps', False) else \"cuda\" if torch.cuda.is_available() else \"cpu\"\n",
        "\n",
        "# For each weight decay\n",
        "for wd in weight_decays:\n",
        "    # Initialize model\n",
        "    model = CNN( num_classes=output_dim, kernel_size=5, padding=2, stride=1, pooling=True, pooling_kernel_size=2,\n",
        "        activation_function=None, batch_norm=True, dropout=None).to(device)\n",
        "\n",
        "    # optimizer\n",
        "    optimizer = torch.optim.ASGD(model.parameters(), lr=learning_rate, weight_decay=wd)\n",
        "\n",
        "    # Train\n",
        "    trained_model, _ = training(epochs_num, optimizer, train_dataloader, loss_func, model, device, val_dataloader, print_loss=False, print_diff=True)\n",
        "\n",
        "    # Evaluate\n",
        "    test_loss, f1_macro_score, accuracy, cfm = evaluation(test_dataloader, loss_func, trained_model, device)\n",
        "\n",
        "    print()\n",
        "    print(\"REPORT:\")\n",
        "    print(f\"Mean Evaluation Loss: {np.mean(test_loss)} \")\n",
        "    print(f\"F1 Macro Score: {f1_macro_score}\")\n",
        "    print(f\"Accracy: {accuracy}\")\n",
        "    print(\"Confusion Matrix:\")\n",
        "    print(cfm)"
      ],
      "metadata": {
        "id": "UPoizKEFMJyA",
        "colab": {
          "base_uri": "https://localhost:8080/"
        },
        "outputId": "8c7cdc5c-e213-42c3-fc23-c84fa88e69a2"
      },
      "execution_count": null,
      "outputs": [
        {
          "output_type": "stream",
          "name": "stderr",
          "text": [
            "<ipython-input-19-6ecebd338d61>:4: UserWarning: 'has_mps' is deprecated, please use 'torch.backends.mps.is_built()'\n",
            "  device = \"mps\" if getattr(torch, 'has_mps', False) else \"cuda\" if torch.cuda.is_available() else \"cpu\"\n"
          ]
        },
        {
          "output_type": "stream",
          "name": "stdout",
          "text": [
            "Improvement fall down occured at 20 epoch\n",
            "\n",
            "REPORT:\n",
            "Mean Evaluation Loss: 0.6940595102306932 \n",
            "F1 Macro Score: 0.7898983075250949\n",
            "Accracy: 0.784156976744186\n",
            "Confusion Matrix:\n",
            "[[233   9  42  40]\n",
            " [ 19 274   2   2]\n",
            " [ 31   3 309  13]\n",
            " [101   6  29 263]]\n",
            "Improvement fall down occured at 18 epoch\n",
            "\n",
            "REPORT:\n",
            "Mean Evaluation Loss: 0.7140467701629373 \n",
            "F1 Macro Score: 0.7379038107949327\n",
            "Accracy: 0.7427325581395349\n",
            "Confusion Matrix:\n",
            "[[136  20  27 141]\n",
            " [  1 290   0   6]\n",
            " [ 18   4 282  52]\n",
            " [ 49  18  18 314]]\n",
            "Improvement fall down occured at 20 epoch\n",
            "\n",
            "REPORT:\n",
            "Mean Evaluation Loss: 0.6460082834981772 \n",
            "F1 Macro Score: 0.7235926273620987\n",
            "Accracy: 0.7441860465116279\n",
            "Confusion Matrix:\n",
            "[[104  38  30 152]\n",
            " [  1 295   0   1]\n",
            " [ 14   8 286  48]\n",
            " [ 20  21  19 339]]\n"
          ]
        }
      ]
    },
    {
      "cell_type": "markdown",
      "source": [
        "### ii) Different Dropout Values"
      ],
      "metadata": {
        "id": "FfHujzVc-8hQ"
      }
    },
    {
      "cell_type": "code",
      "source": [
        "# dropout values\n",
        "dropout_values = [0.2, 0.5, 0.6]\n",
        "\n",
        "for drop_val in dropout_values:\n",
        "    # Initialize model\n",
        "    model = CNN( num_classes=output_dim, kernel_size=5, padding=2, stride=1, pooling=True, pooling_kernel_size=2,\n",
        "                activation_function=None, batch_norm=True, dropout=drop_val).to(device)\n",
        "\n",
        "    # optimizer\n",
        "    optimizer = torch.optim.SGD(model.parameters(), lr=learning_rate)\n",
        "\n",
        "    # Train\n",
        "    trained_model, _ = training(epochs_num, optimizer, train_dataloader, loss_func, model, device, val_dataloader, print_loss=False)\n",
        "\n",
        "    # Evaluate\n",
        "    test_loss, f1_macro_score, accuracy, cfm = evaluation(test_dataloader, loss_func, trained_model, device)\n",
        "\n",
        "    print(f\"For drop out value = {drop_val}\")\n",
        "    print()\n",
        "    print(\"REPORT:\")\n",
        "    print(f\"Mean Evaluation Loss: {np.mean(test_loss)} \")\n",
        "    print(f\"F1 Macro Score: {f1_macro_score}\")\n",
        "    print(f\"Accracy: {accuracy}\")\n",
        "    print(\"Confusion Matrix:\")\n",
        "    print(cfm)\n"
      ],
      "metadata": {
        "id": "yT09Zw0nMKAV",
        "colab": {
          "base_uri": "https://localhost:8080/"
        },
        "outputId": "1f5b9e3b-5322-4d7e-fc13-11ed5adb2b6c"
      },
      "execution_count": null,
      "outputs": [
        {
          "output_type": "stream",
          "name": "stdout",
          "text": [
            "Improvement fall down occured at 25 epoch\n",
            "For drop out value = 0.2\n",
            "\n",
            "REPORT:\n",
            "Mean Evaluation Loss: 0.8233532421615755 \n",
            "F1 Macro Score: 0.7457228617942904\n",
            "Accracy: 0.7340116279069767\n",
            "Confusion Matrix:\n",
            "[[242  14  11  57]\n",
            " [ 33 258   0   6]\n",
            " [ 69   7 248  32]\n",
            " [116  12   9 262]]\n",
            "Improvement fall down occured at 21 epoch\n",
            "For drop out value = 0.5\n",
            "\n",
            "REPORT:\n",
            "Mean Evaluation Loss: 0.6574158614858725 \n",
            "F1 Macro Score: 0.7653125979301605\n",
            "Accracy: 0.7594476744186046\n",
            "Confusion Matrix:\n",
            "[[232  27   8  57]\n",
            " [  7 287   0   3]\n",
            " [ 81   8 244  23]\n",
            " [ 86  15  16 282]]\n",
            "Improvement fall down occured at 27 epoch\n",
            "For drop out value = 0.6\n",
            "\n",
            "REPORT:\n",
            "Mean Evaluation Loss: 0.6699051156120245 \n",
            "F1 Macro Score: 0.7550897094383648\n",
            "Accracy: 0.7645348837209303\n",
            "Confusion Matrix:\n",
            "[[142  17  79  86]\n",
            " [ 10 282   0   5]\n",
            " [ 13   2 330  11]\n",
            " [ 50   8  43 298]]\n"
          ]
        }
      ]
    },
    {
      "cell_type": "markdown",
      "source": [
        "iii) 60 Epochs - Different weight decays"
      ],
      "metadata": {
        "id": "lPoKKacP_GqI"
      }
    },
    {
      "cell_type": "code",
      "source": [
        "# parameters\n",
        "epochs_num = 60\n",
        "output_dim = 4\n",
        "learning_rate = 0.002\n",
        "\n",
        "for wd in weight_decays:\n",
        "\n",
        "    # Initialize model\n",
        "    model = CNN( num_classes=output_dim, kernel_size=5, padding=2, stride=1, pooling=True, pooling_kernel_size=2,\n",
        "        activation_function=None, batch_norm=True, dropout=None).to(device)\n",
        "\n",
        "    # Initialize optimizer\n",
        "    optimizer = torch.optim.SGD(model.parameters(), lr=learning_rate, weight_decay=wd)\n",
        "\n",
        "    # Train\n",
        "    trained_model, _ = training(epochs_num, optimizer, train_dataloader, loss_func, model, device, val_dataloader, print_loss=False)\n",
        "\n",
        "    # Evaluate\n",
        "    test_loss, f1_macro_score, accuracy, cfm = evaluation(test_dataloader, loss_func, trained_model, device)\n",
        "\n",
        "    print(f\"For weight decay = {wd}\")\n",
        "\n",
        "    print()\n",
        "    print(\"REPORT:\")\n",
        "    print(f\"Mean Evaluation Loss: {np.mean(test_loss)} \")\n",
        "    print(f\"F1 Macro Score: {f1_macro_score}\")\n",
        "    print(f\"Accracy: {accuracy}\")\n",
        "    print(\"Confusion Matrix:\")\n",
        "    print(cfm)\n"
      ],
      "metadata": {
        "id": "HcS9XmLLMKSF",
        "colab": {
          "base_uri": "https://localhost:8080/"
        },
        "outputId": "09746051-77c6-4510-dbf0-1e24c5cc1897"
      },
      "execution_count": null,
      "outputs": [
        {
          "output_type": "stream",
          "name": "stdout",
          "text": [
            "Improvement fall down occured at 20 epoch\n",
            "For weight decay = 0.001\n",
            "\n",
            "REPORT:\n",
            "Mean Evaluation Loss: 0.910134649705575 \n",
            "F1 Macro Score: 0.7131712560935017\n",
            "Accracy: 0.7100290697674418\n",
            "Confusion Matrix:\n",
            "[[192   2  87  43]\n",
            " [ 52 227  12   6]\n",
            " [ 23   3 321   9]\n",
            " [ 95  15  52 237]]\n",
            "Improvement fall down occured at 25 epoch\n",
            "For weight decay = 0.01\n",
            "\n",
            "REPORT:\n",
            "Mean Evaluation Loss: 0.7916578638262785 \n",
            "F1 Macro Score: 0.7674875116988109\n",
            "Accracy: 0.7696220930232558\n",
            "Confusion Matrix:\n",
            "[[156  11  27 130]\n",
            " [  8 279   1   9]\n",
            " [ 18   4 302  32]\n",
            " [ 44   9  24 322]]\n",
            "Improvement fall down occured at 17 epoch\n",
            "For weight decay = 0.1\n",
            "\n",
            "REPORT:\n",
            "Mean Evaluation Loss: 0.58440368224022 \n",
            "F1 Macro Score: 0.7605487698341004\n",
            "Accracy: 0.7667151162790697\n",
            "Confusion Matrix:\n",
            "[[145   9  47 123]\n",
            " [ 19 270   0   8]\n",
            " [ 18   2 310  26]\n",
            " [ 34   6  29 330]]\n"
          ]
        }
      ]
    },
    {
      "cell_type": "markdown",
      "source": [
        "### iv) 60 Epochs - Different dropout values"
      ],
      "metadata": {
        "id": "-S3SLytG_Vvm"
      }
    },
    {
      "cell_type": "code",
      "source": [
        "# parameters\n",
        "epochs_num = 60\n",
        "\n",
        "# Iterate through dropout values\n",
        "for drop_val in dropout_values:\n",
        "    # Initialize model\n",
        "    model = CNN( num_classes=output_dim, kernel_size=5, padding=2, stride=1, pooling=True, pooling_kernel_size=2,\n",
        "        activation_function=None, batch_norm=True, dropout=drop_val).to(device)\n",
        "\n",
        "    # Initialize optimizer\n",
        "    optimizer = torch.optim.SGD(model.parameters(), lr=learning_rate)\n",
        "\n",
        "    # Train\n",
        "    trained_model, _ = training(epochs_num, optimizer, train_dataloader, loss_func, model, device, val_dataloader)\n",
        "\n",
        "    # Evaluate\n",
        "    test_loss, f1_macro_score, accuracy, cfm = evaluation(test_dataloader, loss_func, trained_model, device)\n",
        "\n",
        "\n",
        "    print()\n",
        "    print(\"REPORT:\")\n",
        "    print(f\"Mean Evaluation Loss: {np.mean(test_loss)} \")\n",
        "    print(f\"F1 Macro Score: {f1_macro_score}\")\n",
        "    print(f\"Accracy: {accuracy}\")\n",
        "    print(\"Confusion Matrix:\")\n",
        "    print(cfm)\n",
        "\n"
      ],
      "metadata": {
        "id": "KZE-mb3NMPIf",
        "colab": {
          "base_uri": "https://localhost:8080/"
        },
        "outputId": "46f17eab-5cf3-4f38-82e4-837e05088ecd"
      },
      "execution_count": null,
      "outputs": [
        {
          "output_type": "stream",
          "name": "stdout",
          "text": [
            "Improvement fall down occured at 22 epoch\n",
            "\n",
            "REPORT:\n",
            "Mean Evaluation Loss: 0.6987087535522987 \n",
            "F1 Macro Score: 0.7476673530139941\n",
            "Accracy: 0.7565406976744186\n",
            "Confusion Matrix:\n",
            "[[134  23  30 137]\n",
            " [ 10 279   1   7]\n",
            " [ 18   3 301  34]\n",
            " [ 35  13  24 327]]\n",
            "Improvement fall down occured at 19 epoch\n",
            "\n",
            "REPORT:\n",
            "Mean Evaluation Loss: 0.7423739348386609 \n",
            "F1 Macro Score: 0.6902637387997402\n",
            "Accracy: 0.7013081395348837\n",
            "Confusion Matrix:\n",
            "[[113  43  13 155]\n",
            " [  2 291   0   4]\n",
            " [ 28  10 245  73]\n",
            " [ 37  28  18 316]]\n",
            "Improvement fall down occured at 22 epoch\n",
            "\n",
            "REPORT:\n",
            "Mean Evaluation Loss: 0.7162064842359964 \n",
            "F1 Macro Score: 0.7349192694448188\n",
            "Accracy: 0.7507267441860465\n",
            "Confusion Matrix:\n",
            "[[121  35  46 122]\n",
            " [  1 293   1   2]\n",
            " [ 21   8 299  28]\n",
            " [ 36  14  29 320]]\n"
          ]
        }
      ]
    },
    {
      "cell_type": "markdown",
      "source": [
        "### v) 60 epochs - Different dropout values and weight decays"
      ],
      "metadata": {
        "id": "BRVUwyoC_d8Y"
      }
    },
    {
      "cell_type": "code",
      "source": [
        "epochs_num = 60\n",
        "\n",
        "# Initialize variables to store the highest mean value and corresponding parameters\n",
        "max_diff = -10000000.0\n",
        "best_drop_val = None\n",
        "best_wd = None\n",
        "\n",
        "# Iterate through dropout values and weight decays\n",
        "for drop_val in dropout_values:\n",
        "    for wd in weight_decays:\n",
        "        # Initialize model\n",
        "        model = CNN( num_classes=output_dim, kernel_size=5, padding=2, stride=1, pooling=True, pooling_kernel_size=2,\n",
        "                    activation_function=F.relu, batch_norm=True, dropout=drop_val).to(device)\n",
        "\n",
        "        # Initialize optimizer\n",
        "        optimizer = torch.optim.ASGD(model.parameters(), lr=learning_rate, weight_decay=wd)\n",
        "\n",
        "        # Train the model\n",
        "        trained_model, diff = training(epochs_num, optimizer, train_dataloader, loss_func, model, device, val_dataloader, print_loss=False, print_diff=True)\n",
        "\n",
        "        # Calculate the mean of the diff list\n",
        "        mean_diff = np.mean(diff)\n",
        "\n",
        "        # Check if the current mean_diff is the highest so far\n",
        "        if mean_diff > max_diff:\n",
        "            max_diff = mean_diff\n",
        "            best_drop_val = drop_val\n",
        "            best_wd = wd\n",
        "\n",
        "        # Evaluate the model\n",
        "        test_loss, macro_score, accuracy, cfm = evaluation(test_dataloader, loss_func, trained_model, device)\n",
        "\n",
        "\n",
        "\n",
        "# Print the highest mean diff value and corresponding dropout and weight decay values\n",
        "print(f\"Highest Mean Diff Value: {max_diff}\")\n",
        "print(f\"Best Dropout Value: {best_drop_val}, Best Weight Decay: {best_wd}\")\n"
      ],
      "metadata": {
        "id": "NyBuPe0SMPZq",
        "colab": {
          "base_uri": "https://localhost:8080/"
        },
        "outputId": "926ab55c-6288-4eec-a649-d41dce822fce"
      },
      "execution_count": null,
      "outputs": [
        {
          "output_type": "stream",
          "name": "stdout",
          "text": [
            "Improvement fall down occured at 48 epoch\n",
            "Improvement fall down occured at 25 epoch\n",
            "Improvement fall down occured at 27 epoch\n",
            "Improvement fall down occured at 40 epoch\n",
            "Improvement fall down occured at 40 epoch\n",
            "Improvement fall down occured at 55 epoch\n",
            "Improvement fall down occured at 41 epoch\n",
            "Improvement fall down occured at 27 epoch\n",
            "Highest Mean Diff Value: 0.22909507997334003\n",
            "Best Dropout Value: 0.2, Best Weight Decay: 0.001\n"
          ]
        }
      ]
    },
    {
      "cell_type": "markdown",
      "source": [
        "# Q3. Predictions"
      ],
      "metadata": {
        "id": "9Qta2jK-_ueu"
      }
    },
    {
      "cell_type": "markdown",
      "source": [
        "## Predict Function"
      ],
      "metadata": {
        "id": "SQx91on2_xv4"
      }
    },
    {
      "cell_type": "code",
      "source": [
        "def predict(dataloader, model):\n",
        "\n",
        "    predictions = []\n",
        "    for i, (x, y) in enumerate(dataloader):\n",
        "\n",
        "        x = x.to(device)\n",
        "\n",
        "        outputs = model(x)\n",
        "        pred = outputs.argmax(1)\n",
        "        pred = pred.tolist()\n",
        "        predictions += pred\n",
        "\n",
        "    return predictions"
      ],
      "metadata": {
        "id": "H6AgVr80MPkl"
      },
      "execution_count": null,
      "outputs": []
    },
    {
      "cell_type": "markdown",
      "source": [
        "## Download song samples from youtube (not my code)"
      ],
      "metadata": {
        "id": "ErBzPNKr_2Gg"
      }
    },
    {
      "cell_type": "code",
      "source": [
        "\n",
        "!sudo apt-get update\n",
        "!sudo curl -L https://yt-dl.org/downloads/latest/youtube-dl -o /usr/local/bin/youtube-dl\n",
        "!sudo chmod a+rx /usr/local/bin/youtube-dl\n",
        "!python3 -m pip install -U yt-dlp\n",
        "\n",
        "!pip install pytube pydub\n",
        "\n",
        "window_length = (50 * 1e-3)\n",
        "hop_length = (50 * 1e-3)\n",
        "mel_time_size = 21\n",
        "\n",
        "\n",
        "def download_youtube(url):\n",
        "    command = f'yt-dlp -x --audio-format wav --audio-quality 0 --output temp.wav --postprocessor-args \"-ar 8000 -ac 1\" ' + url + \" --quiet\"\n",
        "    os.system(command)\n",
        "\n",
        "\n",
        "def load_wav(filename):\n",
        "    \"\"\"Rea audio file and return audio signal and sampling frequency\"\"\"\n",
        "    if not os.path.exists(filename):\n",
        "        raise FileNotFoundError\n",
        "    # Load file using librosa\n",
        "    x, fs = librosa.load(filename, sr=None)\n",
        "    return x, fs\n",
        "\n",
        "\n",
        "def melspectrogram(x=None, fs=None, n_fft=None, hop_length=None,\n",
        "                   fuse=False):\n",
        "    \"\"\"Returns a mel spectrogram.\"\"\"\n",
        "\n",
        "    if x is None:\n",
        "        return None\n",
        "    # Set some values\n",
        "    if n_fft is None:\n",
        "        n_fft = int(window_length * fs)\n",
        "    if hop_length is None:\n",
        "        hop_length = int(hop_length * fs)\n",
        "    # Get spectrogram\n",
        "    spectrogram = librosa.feature.melspectrogram(y=x, sr=fs, n_fft=n_fft,\n",
        "                                                 hop_length=hop_length)\n",
        "    # Convert to MEL-Scale\n",
        "    spectrogram_dB = librosa.power_to_db(spectrogram, ref=np.max)  # (n_mel,t)\n",
        "\n",
        "    if fuse:\n",
        "        chroma = librosa.feature.chroma_stft(y=x, sr=fs, n_fft=n_fft,\n",
        "                                             hop_length=hop_length)\n",
        "        chroma_dB = librosa.power_to_db(chroma)\n",
        "        out = np.concatenate((spectrogram_dB.T, chroma_dB.T), axis=1)\n",
        "    else:\n",
        "        # Transpose to return (time,n_mel)\n",
        "        out = spectrogram_dB.T\n",
        "    return out\n",
        "\n",
        "\n",
        "def get_melgrams(file):\n",
        "    signal, fs = load_wav(file)\n",
        "\n",
        "    segment_length = int((mel_time_size - 1) * window_length * fs)\n",
        "    sequence_length = signal.shape[0]\n",
        "    progress = 0\n",
        "    segments = []\n",
        "    while progress < sequence_length:\n",
        "        if progress + segment_length > sequence_length:\n",
        "            fill_data = sequence_length - progress\n",
        "            empty_data = segment_length - fill_data\n",
        "            feature = melspectrogram(\n",
        "                np.pad(signal[progress:], (0, empty_data), 'constant'),\n",
        "                fs=fs, n_fft=int(window_length * fs), hop_length=int(hop_length * fs))\n",
        "            segments.append(feature)\n",
        "        else:\n",
        "            feature = melspectrogram(\n",
        "                signal[progress:progress + segment_length],\n",
        "                fs=fs, n_fft=int(window_length * fs), hop_length=int(hop_length * fs))\n",
        "\n",
        "            segments.append(feature)\n",
        "        progress += segment_length\n",
        "\n",
        "    return segments\n",
        "\n",
        "\n",
        "def youtube_to_melgram(url, name, kind):\n",
        "    download_youtube(url)\n",
        "    melgrams = get_melgrams(\"temp.wav\")\n",
        "    np.save(kind+\"_\"+name+\"_melgrams.npy\", melgrams)\n",
        "    os.remove(\"temp.wav\")"
      ],
      "metadata": {
        "id": "WHhobv0aMUIg",
        "colab": {
          "base_uri": "https://localhost:8080/"
        },
        "collapsed": true,
        "outputId": "d61ba325-6764-41ee-f3ff-1fe7ccd36578"
      },
      "execution_count": null,
      "outputs": [
        {
          "output_type": "stream",
          "name": "stdout",
          "text": [
            "\r0% [Working]\r            \rHit:1 https://cloud.r-project.org/bin/linux/ubuntu jammy-cran40/ InRelease\n",
            "Hit:2 https://developer.download.nvidia.com/compute/cuda/repos/ubuntu2204/x86_64  InRelease\n",
            "Hit:3 http://security.ubuntu.com/ubuntu jammy-security InRelease\n",
            "Hit:4 http://archive.ubuntu.com/ubuntu jammy InRelease\n",
            "Hit:5 http://archive.ubuntu.com/ubuntu jammy-updates InRelease\n",
            "Hit:6 http://archive.ubuntu.com/ubuntu jammy-backports InRelease\n",
            "Hit:7 https://ppa.launchpadcontent.net/c2d4u.team/c2d4u4.0+/ubuntu jammy InRelease\n",
            "Hit:8 https://ppa.launchpadcontent.net/deadsnakes/ppa/ubuntu jammy InRelease\n",
            "Hit:9 https://ppa.launchpadcontent.net/graphics-drivers/ppa/ubuntu jammy InRelease\n",
            "Hit:10 https://ppa.launchpadcontent.net/ubuntugis/ppa/ubuntu jammy InRelease\n",
            "Reading package lists... Done\n",
            "  % Total    % Received % Xferd  Average Speed   Time    Time     Time  Current\n",
            "                                 Dload  Upload   Total   Spent    Left  Speed\n",
            "100   384  100   384    0     0    229      0  0:00:01  0:00:01 --:--:--   229\n",
            "Requirement already satisfied: yt-dlp in /usr/local/lib/python3.10/dist-packages (2024.5.27)\n",
            "Requirement already satisfied: brotli in /usr/local/lib/python3.10/dist-packages (from yt-dlp) (1.1.0)\n",
            "Requirement already satisfied: certifi in /usr/local/lib/python3.10/dist-packages (from yt-dlp) (2024.6.2)\n",
            "Requirement already satisfied: mutagen in /usr/local/lib/python3.10/dist-packages (from yt-dlp) (1.47.0)\n",
            "Requirement already satisfied: pycryptodomex in /usr/local/lib/python3.10/dist-packages (from yt-dlp) (3.20.0)\n",
            "Requirement already satisfied: requests<3,>=2.31.0 in /usr/local/lib/python3.10/dist-packages (from yt-dlp) (2.31.0)\n",
            "Requirement already satisfied: urllib3<3,>=1.26.17 in /usr/local/lib/python3.10/dist-packages (from yt-dlp) (2.0.7)\n",
            "Requirement already satisfied: websockets>=12.0 in /usr/local/lib/python3.10/dist-packages (from yt-dlp) (12.0)\n",
            "Requirement already satisfied: charset-normalizer<4,>=2 in /usr/local/lib/python3.10/dist-packages (from requests<3,>=2.31.0->yt-dlp) (3.3.2)\n",
            "Requirement already satisfied: idna<4,>=2.5 in /usr/local/lib/python3.10/dist-packages (from requests<3,>=2.31.0->yt-dlp) (3.7)\n",
            "Requirement already satisfied: pytube in /usr/local/lib/python3.10/dist-packages (15.0.0)\n",
            "Requirement already satisfied: pydub in /usr/local/lib/python3.10/dist-packages (0.25.1)\n"
          ]
        }
      ]
    },
    {
      "cell_type": "code",
      "source": [
        "\n",
        "youtube_to_melgram('https://youtu.be/k2qgadSvNyU?si=VMt_q1zo_8FQuPPh', \"2\", \"pop\")\n",
        "youtube_to_melgram('https://www.youtube.com/watch?v=9E6b3swbnWg', \"1\", \"classic\")\n",
        "youtube_to_melgram('https://www.youtube.com/watch?v=hTWKbfoikeg', \"3\", \"rock\")\n",
        "youtube_to_melgram('https://youtu.be/8hr3Stnk8_k?si=mdDouiRzZgvipXMV', \"0\", \"blues\")"
      ],
      "metadata": {
        "id": "Jd_YZbMlMZpI"
      },
      "execution_count": null,
      "outputs": []
    },
    {
      "cell_type": "markdown",
      "source": [
        "## Perform and Visualise Predictions"
      ],
      "metadata": {
        "id": "sxBwicGt_-15"
      }
    },
    {
      "cell_type": "code",
      "source": [
        "torch_seed()\n",
        "model = CNN(num_classes=output_dim, kernel_size=5, padding=2, stride=1, pooling=True, pooling_kernel_size=2, activation_function=None, batch_norm=True).to(device)\n",
        "\n",
        "optimizer = torch.optim.Adagrad(model.parameters(), lr=0.002)\n",
        "\n",
        "trained_model_test, _ = training(30, optimizer, train_dataloader, loss_func, model, device, None, False)"
      ],
      "metadata": {
        "id": "vsL1HB-cMZ3s"
      },
      "execution_count": null,
      "outputs": []
    },
    {
      "cell_type": "code",
      "source": [
        "\n",
        "def load_dataset(filename, label_value):\n",
        "    data = np.load(filename)\n",
        "    labels = np.full(len(data), label_value)\n",
        "    return data, labels\n",
        "\n",
        "def process_and_plot_datasets(dataset_files, model):\n",
        "    all_predictions = []\n",
        "    accuracy_scores = []\n",
        "\n",
        "    fig, axs = plt.subplots(2, 2, figsize=(15, 10))\n",
        "    genre_names = [\"blues\", \"classical\", \"pop\", \"rock\"]\n",
        "\n",
        "    for i, (filename, label_value) in enumerate(dataset_files):\n",
        "        data, labels = load_dataset(filename, label_value)\n",
        "        dataset = Melgrams_Dataset(data, labels)\n",
        "        loader = DataLoader(dataset=dataset, batch_size=16, shuffle=False)\n",
        "\n",
        "        # predict\n",
        "        predictions = predict(loader, model)\n",
        "        all_predictions.append(predictions)\n",
        "\n",
        "        # accuracy\n",
        "        accuracy = accuracy_score(labels, predictions)\n",
        "        accuracy_scores.append(accuracy)\n",
        "\n",
        "        # plot\n",
        "        row, col = divmod(i, 2)\n",
        "        ax = axs[row, col]\n",
        "        labels_dict = {0: \"blues\", 1: \"classical\", 2: \"pop\", 3: \"rock\"}\n",
        "        ylabels = [labels_dict[i] for i in range(len(labels_dict))]\n",
        "        x = range(len(predictions))\n",
        "        ax.plot(x, predictions, \"mo\", markersize=5, label='Predictions')\n",
        "        ax.set_title(f\"{genre_names[i]} - Accuracy: {accuracy:.2%}\")\n",
        "        ax.set_ylabel(\"Music Genre\")\n",
        "        ax.set_yticks(range(len(labels_dict)))\n",
        "        ax.set_yticklabels(ylabels)\n",
        "        ax.legend()\n",
        "\n",
        "    plt.tight_layout()\n",
        "    plt.show()\n",
        "\n",
        "# file names\n",
        "datasets = [\n",
        "    (\"blues_0_melgrams.npy\", 0),\n",
        "    (\"classic_1_melgrams.npy\", 1),\n",
        "    (\"pop_2_melgrams.npy\", 2),\n",
        "    (\"rock_3_melgrams.npy\", 3)\n",
        "]\n",
        "\n",
        "process_and_plot_datasets(datasets, trained_model_test)\n"
      ],
      "metadata": {
        "id": "UFyIEZidMfar",
        "colab": {
          "base_uri": "https://localhost:8080/",
          "height": 691
        },
        "outputId": "8a72a41a-a781-4db5-be52-6bf0dd787d01"
      },
      "execution_count": null,
      "outputs": [
        {
          "output_type": "display_data",
          "data": {
            "text/plain": [
              "<Figure size 1500x1000 with 4 Axes>"
            ],
            "image/png": "[encoded data removed]"
          },
          "metadata": {}
        }
      ]
    },
    {
      "cell_type": "markdown",
      "source": [
        "Βλεπουμε οτι οι προβλεψεις ανα ενα δευτερολεπτο του τραγουδιου ειναι αρκετα καλες εφοσον σε πολλες συνολικα ειναι αρκετα υψηλες αλλα γενικα πανω απο 50 % που σημαινει οτι το μουσικο ειδος εχει προβλευτει σωστα απο το μοντελο μας."
      ],
      "metadata": {
        "id": "2Y856-_SIj9n"
      }
    }
  ]
}